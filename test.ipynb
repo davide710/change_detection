{
 "cells": [
  {
   "cell_type": "code",
   "execution_count": 1,
   "id": "922defdd",
   "metadata": {},
   "outputs": [],
   "source": [
    "import numpy as np\n",
    "import matplotlib.pyplot as plt\n",
    "import pandas as pd\n",
    "import cv2\n",
    "from torch.utils import data\n",
    "import torch\n",
    "import os\n",
    "from from_scratch.dataset import Dataset, resize\n",
    "from from_scratch.losses import ComputeLoss\n",
    "from from_scratch.model import Yolo"
   ]
  },
  {
   "cell_type": "code",
   "execution_count": 33,
   "id": "ac48512f",
   "metadata": {},
   "outputs": [],
   "source": [
    "# saving checkpoint\n",
    "torch.save({\n",
    "    'epoch': 60,\n",
    "    'model_state_dict': model.state_dict(),\n",
    "    'optimizer_state_dict': optimizer.state_dict(),\n",
    "    'loss': epoch_loss / len(train_loader)\n",
    "}, 'yolo_n_checkpoint.pth')\n",
    "\n",
    "# Load the model\n",
    "#model = Yolo(version='n')\n",
    "#optimizer = torch.optim.AdamW(model.parameters(), lr=1e-2)\n",
    "#checkpoint = torch.load('yolo_n_checkpoint.pth')\n",
    "#model.load_state_dict(checkpoint['model_state_dict'])\n",
    "#optimizer.load_state_dict(checkpoint['optimizer_state_dict'])\n",
    "#print(f\"Loaded model from checkpoint at epoch {checkpoint['epoch']} with loss {checkpoint['loss']:.4f}\")"
   ]
  },
  {
   "cell_type": "code",
   "execution_count": 4,
   "id": "0e981f98",
   "metadata": {},
   "outputs": [],
   "source": [
    "class SimpleLoss:\n",
    "    def __init__(self, model, params=None):\n",
    "        if hasattr(model, 'module'):\n",
    "            model = model.module\n",
    "        self.device = next(model.parameters()).device\n",
    "\n",
    "    def __call__(self, outputs, targets):\n",
    "        x1, x2, x3 = outputs\n",
    "        y1, y2, y3 = targets\n",
    "        # the loss is the sum of the cross-entropy loss for each pair of outputs and targets\n",
    "        loss_fn = torch.nn.BCEWithLogitsLoss()\n",
    "        loss = loss_fn(x1, y1) + loss_fn(x2, y2) + loss_fn(x3, y3)\n",
    "        #loss = torch.nn.BCEWithLogitsLoss(x1, y1) + torch.nn.BCEWithLogitsLoss(x2, y2) + torch.nn.BCEWithLogitsLoss(x3, y3)\n",
    "        # return a tensor with a single value, the loss\n",
    "        if not isinstance(loss, torch.Tensor):\n",
    "            loss = torch.tensor(loss, device=self.device)\n",
    "        if loss.ndim == 0:  # if loss is a scalar\n",
    "            loss = loss.unsqueeze(0)  # add a batch dimension\n",
    "        elif loss.ndim == 1:  # if loss is a vector\n",
    "            loss = loss.unsqueeze(0)  # add a batch dimension\n",
    "        elif loss.ndim > 1:  # if loss is a matrix or higher\n",
    "            loss = loss.mean(dim=0, keepdim=True)  # average over the first dimension\n",
    "\n",
    "        return loss"
   ]
  },
  {
   "cell_type": "code",
   "execution_count": 4,
   "id": "f9995763",
   "metadata": {},
   "outputs": [
    {
     "name": "stdout",
     "output_type": "stream",
     "text": [
      "Train_loader : 4 batches\n",
      "2.637276 million parameters\n",
      "Epoch : 1 | avg loss : 2.010443844800467\n",
      "Epoch : 2 | avg loss : 1.740228753622708\n",
      "Epoch : 3 | avg loss : 1.5988311395497923\n",
      "Epoch : 4 | avg loss : 1.5204710103930337\n",
      "Epoch : 5 | avg loss : 1.4929673498257645\n",
      "Epoch : 6 | avg loss : 1.407604665373517\n",
      "Epoch : 7 | avg loss : 1.3476153239442197\n",
      "Epoch : 8 | avg loss : 1.2898225078207874\n",
      "Epoch : 9 | avg loss : 1.2347499096992354\n",
      "Epoch : 10 | avg loss : 1.1805702880047304\n"
     ]
    }
   ],
   "source": [
    "dataset = Dataset('/home/davide/Desktop/change_detection/dataset', input_size=640)\n",
    "train_loader = data.DataLoader(dataset, batch_size=32, num_workers=0, pin_memory=True)\n",
    "print(f\"Train_loader : {len(train_loader)} batches\")\n",
    "\n",
    "torch.manual_seed(42)\n",
    "\n",
    "model = Yolo(version='n')\n",
    "print(f\"{sum(p.numel() for p in model.parameters())/1e6} million parameters\")\n",
    "\n",
    "criterion = SimpleLoss(model)\n",
    "optimizer = torch.optim.AdamW(model.parameters(), lr=1e-3)\n",
    "\n",
    "num_epochs = 10\n",
    "\n",
    "model.train()\n",
    "for epoch in range(num_epochs):\n",
    "    epoch_loss = 0\n",
    "    for imgs, targets in train_loader:\n",
    "        imgs = imgs.float()\n",
    "        outputs = model(imgs)\n",
    "        loss = criterion(outputs, targets)\n",
    "        optimizer.zero_grad()\n",
    "        loss.backward()\n",
    "        optimizer.step()\n",
    "        epoch_loss += loss.item()\n",
    "    print(f\"Epoch : {epoch + 1} | avg loss : {epoch_loss / len(train_loader)}\")"
   ]
  },
  {
   "cell_type": "code",
   "execution_count": 18,
   "id": "cb00b67d",
   "metadata": {},
   "outputs": [
    {
     "name": "stdout",
     "output_type": "stream",
     "text": [
      "Epoch : 59 | avg loss : 0.03565431793245793\n",
      "Epoch : 60 | avg loss : 0.03333491923152676\n",
      "Epoch : 61 | avg loss : 0.032065948200578044\n"
     ]
    }
   ],
   "source": [
    "optimizer = torch.optim.AdamW(model.parameters(), lr=1e-4)\n",
    "\n",
    "num_epochs = 3\n",
    "\n",
    "model.train()\n",
    "for epoch in range(num_epochs):\n",
    "    epoch_loss = 0\n",
    "    for imgs, targets in train_loader:\n",
    "        imgs = imgs.float()\n",
    "        outputs = model(imgs)\n",
    "        loss = criterion(outputs, targets)\n",
    "        optimizer.zero_grad()\n",
    "        loss.backward()\n",
    "        optimizer.step()\n",
    "        epoch_loss += loss.item()\n",
    "    print(f\"Epoch : {epoch + 1 + 58} | avg loss : {epoch_loss / len(train_loader)}\")"
   ]
  },
  {
   "cell_type": "code",
   "execution_count": 12,
   "id": "68c8c72c",
   "metadata": {},
   "outputs": [],
   "source": [
    "test_dataset = Dataset('/home/davide/Desktop/change_detection/1_im_ds', input_size=640)\n",
    "test_train_loader = data.DataLoader(test_dataset, batch_size=32, num_workers=0, pin_memory=True)\n",
    "im, t = next(iter(test_train_loader))"
   ]
  },
  {
   "cell_type": "code",
   "execution_count": 31,
   "id": "2d92e5be",
   "metadata": {},
   "outputs": [],
   "source": [
    "out = model(im.float())\n",
    "out = torch.sigmoid(out[2][0][1].cpu().detach()).numpy()\n",
    "out[out < 0.5] = 0\n",
    "out[out >= 0.5] = 1"
   ]
  },
  {
   "cell_type": "code",
   "execution_count": 32,
   "id": "f97334fb",
   "metadata": {},
   "outputs": [
    {
     "data": {
      "text/plain": [
       "<matplotlib.image.AxesImage at 0x7f8a1cbcbeb0>"
      ]
     },
     "execution_count": 32,
     "metadata": {},
     "output_type": "execute_result"
    },
    {
     "data": {
      "image/png": "[encoded data removed]",
      "text/plain": [
       "<Figure size 1200x600 with 3 Axes>"
      ]
     },
     "metadata": {},
     "output_type": "display_data"
    }
   ],
   "source": [
    "fig, axs = plt.subplots(1, 3, figsize=(12, 6))\n",
    "axs[0].imshow(im[0][0].cpu().detach().numpy(), cmap='gray')\n",
    "axs[1].imshow(t[2][0][1].cpu().detach().numpy(), cmap='gray')\n",
    "axs[2].imshow(out, cmap='gray')"
   ]
  }
 ],
 "metadata": {
  "kernelspec": {
   "display_name": "Python 3",
   "language": "python",
   "name": "python3"
  },
  "language_info": {
   "codemirror_mode": {
    "name": "ipython",
    "version": 3
   },
   "file_extension": ".py",
   "mimetype": "text/x-python",
   "name": "python",
   "nbconvert_exporter": "python",
   "pygments_lexer": "ipython3",
   "version": "3.8.10"
  }
 },
 "nbformat": 4,
 "nbformat_minor": 5
}
