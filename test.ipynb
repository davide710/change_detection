{
 "cells": [
  {
   "cell_type": "code",
   "execution_count": 1,
   "id": "922defdd",
   "metadata": {},
   "outputs": [],
   "source": [
    "import numpy as np\n",
    "import matplotlib.pyplot as plt\n",
    "import cv2\n",
    "from torch.utils import data\n",
    "import torch\n",
    "import os\n",
    "from from_scratch.dataset import Dataset\n",
    "from from_scratch.losses import SimpleLoss\n",
    "from from_scratch.model import Yolo\n",
    "from from_scratch.inference import predict"
   ]
  },
  {
   "cell_type": "code",
   "execution_count": 7,
   "id": "ac48512f",
   "metadata": {},
   "outputs": [],
   "source": [
    "# saving checkpoint\n",
    "torch.save({\n",
    "    'epoch': 70, # 61 1e-3, 9 1e-4\n",
    "    'model_state_dict': model.state_dict(),\n",
    "    'optimizer_state_dict': optimizer.state_dict(),\n",
    "    'loss': epoch_loss / len(train_loader)\n",
    "}, 'yolo_n_checkpoint.pth')\n",
    "\n",
    "# Load the model\n",
    "#model = Yolo(version='n')\n",
    "#optimizer = torch.optim.AdamW(model.parameters(), lr=1e-2)\n",
    "#checkpoint = torch.load('yolo_n_checkpoint.pth')\n",
    "#model.load_state_dict(checkpoint['model_state_dict'])\n",
    "#optimizer.load_state_dict(checkpoint['optimizer_state_dict'])\n",
    "#print(f\"Loaded model from checkpoint at epoch {checkpoint['epoch']} with loss {checkpoint['loss']:.4f}\")"
   ]
  },
  {
   "cell_type": "code",
   "execution_count": 3,
   "id": "f9995763",
   "metadata": {},
   "outputs": [
    {
     "name": "stdout",
     "output_type": "stream",
     "text": [
      "Train_loader : 4 batches\n"
     ]
    }
   ],
   "source": [
    "dataset = Dataset('/home/davide/Desktop/change_detection/dataset', input_size=640)\n",
    "train_loader = data.DataLoader(dataset, batch_size=32, num_workers=0, pin_memory=True, shuffle=True)\n",
    "print(f\"Train_loader : {len(train_loader)} batches\")"
   ]
  },
  {
   "cell_type": "code",
   "execution_count": 5,
   "id": "2982968a",
   "metadata": {},
   "outputs": [
    {
     "name": "stdout",
     "output_type": "stream",
     "text": [
      "2.629046 million parameters\n",
      "Epoch: 1 | avg loss: 2.013804181274094\n",
      "Epoch: 2 | avg loss: 1.7436317665845649\n",
      "Epoch: 3 | avg loss: 1.6028307106015538\n",
      "Epoch: 4 | avg loss: 1.5368230259860436\n",
      "Epoch: 5 | avg loss: 1.4677248973116397\n",
      "Epoch: 6 | avg loss: 1.4044563858608656\n",
      "Epoch: 7 | avg loss: 1.3461342623187806\n",
      "Epoch: 8 | avg loss: 1.290515179876036\n",
      "Epoch: 9 | avg loss: 1.2412014812806489\n",
      "Epoch: 10 | avg loss: 1.184950146466404\n",
      "Epoch: 11 | avg loss: 1.1315944795396284\n",
      "Epoch: 12 | avg loss: 1.0768450068210467\n",
      "Epoch: 13 | avg loss: 1.0213204888243799\n",
      "Epoch: 14 | avg loss: 0.9839255352815224\n",
      "Epoch: 15 | avg loss: 0.9376639131405664\n",
      "Epoch: 16 | avg loss: 0.8914764861828213\n",
      "Epoch: 17 | avg loss: 0.8448672136776252\n",
      "Epoch: 18 | avg loss: 0.7973462979327675\n",
      "Epoch: 19 | avg loss: 0.7525358553242576\n",
      "Epoch: 20 | avg loss: 0.7140711768550606\n",
      "Epoch: 21 | avg loss: 0.6722284644479877\n",
      "Epoch: 22 | avg loss: 0.6373808829789234\n",
      "Epoch: 23 | avg loss: 0.6014856045099767\n",
      "Epoch: 24 | avg loss: 0.5654010201866859\n",
      "Epoch: 25 | avg loss: 0.5341951241251506\n",
      "Epoch: 26 | avg loss: 0.5045612657726943\n",
      "Epoch: 27 | avg loss: 0.4757578314373573\n",
      "Epoch: 28 | avg loss: 0.4498810222181763\n",
      "Epoch: 29 | avg loss: 0.42475735038468465\n",
      "Epoch: 30 | avg loss: 0.4014189777803278\n"
     ]
    }
   ],
   "source": [
    "torch.manual_seed(42)\n",
    "\n",
    "model = Yolo(version='n')\n",
    "print(f\"{sum(p.numel() for p in model.parameters())/1e6} million parameters\")\n",
    "\n",
    "criterion = SimpleLoss(model)\n",
    "optimizer = torch.optim.AdamW(model.parameters(), lr=1e-3)\n",
    "\n",
    "num_epochs = 30\n",
    "\n",
    "model.train()\n",
    "for epoch in range(num_epochs):\n",
    "    epoch_loss = 0\n",
    "    for imgs, targets in train_loader:\n",
    "        imgs = imgs.float()\n",
    "        outputs = model(imgs)\n",
    "        loss = criterion(outputs, targets)\n",
    "        optimizer.zero_grad()\n",
    "        loss.backward()\n",
    "        optimizer.step()\n",
    "        epoch_loss += loss.item()\n",
    "    print(f\"Epoch: {epoch + 1} | avg loss: {epoch_loss / len(train_loader)}\")"
   ]
  },
  {
   "cell_type": "code",
   "execution_count": 6,
   "id": "cb00b67d",
   "metadata": {},
   "outputs": [
    {
     "name": "stdout",
     "output_type": "stream",
     "text": [
      "Epoch : 51 | avg loss : 0.060591915971553556\n",
      "Epoch : 52 | avg loss : 0.058168523032657765\n",
      "Epoch : 53 | avg loss : 0.05648197227675843\n",
      "Epoch : 54 | avg loss : 0.05476493010019803\n",
      "Epoch : 55 | avg loss : 0.055671591371285425\n",
      "Epoch : 56 | avg loss : 0.055174788261549895\n",
      "Epoch : 57 | avg loss : 0.05427632030132176\n",
      "Epoch : 58 | avg loss : 0.0533780261644389\n",
      "Epoch : 59 | avg loss : 0.05289243286676379\n",
      "Epoch : 60 | avg loss : 0.05328700516006177\n"
     ]
    }
   ],
   "source": [
    "optimizer = torch.optim.AdamW(model.parameters(), lr=1e-4)\n",
    "#criterion = SimpleLoss(model)\n",
    "num_epochs = 10\n",
    "\n",
    "model.train()\n",
    "for epoch in range(num_epochs):\n",
    "    epoch_loss = 0\n",
    "    for imgs, targets in train_loader:\n",
    "        imgs = imgs.float()\n",
    "        outputs = model(imgs)\n",
    "        loss = criterion(outputs, targets)\n",
    "        optimizer.zero_grad()\n",
    "        loss.backward()\n",
    "        optimizer.step()\n",
    "        epoch_loss += loss.item()\n",
    "    print(f\"Epoch : {epoch + 1 + 70} | avg loss : {epoch_loss / len(train_loader)}\")"
   ]
  },
  {
   "cell_type": "code",
   "execution_count": 5,
   "id": "69a617f5",
   "metadata": {},
   "outputs": [],
   "source": [
    "test_images = os.listdir('/home/davide/Desktop/change_detection/dataset/images/val')\n",
    "\n",
    "for image_name in test_images:\n",
    "    image_path = os.path.join('/home/davide/Desktop/change_detection/dataset/images/val', image_name)\n",
    "    out = predict(model, image_path, scale=20, threshold=0.05)\n",
    "    out += predict(model, image_path, scale=40, threshold=0.05)\n",
    "    out += predict(model, image_path, scale=80, threshold=0.05)\n",
    "    out[out > 1] = 1\n",
    "    plt.imsave(f'/home/davide/Desktop/change_detection/from_scratch/predictions/{image_name}', out, cmap='gray')"
   ]
  }
 ],
 "metadata": {
  "kernelspec": {
   "display_name": "Python 3",
   "language": "python",
   "name": "python3"
  },
  "language_info": {
   "codemirror_mode": {
    "name": "ipython",
    "version": 3
   },
   "file_extension": ".py",
   "mimetype": "text/x-python",
   "name": "python",
   "nbconvert_exporter": "python",
   "pygments_lexer": "ipython3",
   "version": "3.8.10"
  }
 },
 "nbformat": 4,
 "nbformat_minor": 5
}
