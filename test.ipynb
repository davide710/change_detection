{
 "cells": [
  {
   "cell_type": "code",
   "execution_count": 1,
   "id": "922defdd",
   "metadata": {},
   "outputs": [],
   "source": [
    "import numpy as np\n",
    "import matplotlib.pyplot as plt\n",
    "import pandas as pd\n",
    "import cv2\n",
    "from torch.utils import data\n",
    "import torch\n",
    "import os\n",
    "from from_scratch.dataset import Dataset, resize\n",
    "from from_scratch.losses import ComputeLoss\n",
    "from from_scratch.model import Yolo"
   ]
  },
  {
   "cell_type": "code",
   "execution_count": 19,
   "id": "950cfc49",
   "metadata": {},
   "outputs": [
    {
     "name": "stdout",
     "output_type": "stream",
     "text": [
      "Train_loader: 4 batches\n",
      "All keys in batch:  dict_keys(['cls', 'box', 'idx'])\n",
      "Input batch shape:  torch.Size([32, 1, 640, 640])\n",
      "Classification scores: torch.Size([135, 1])\n",
      "Box coordinates: torch.Size([135, 4])\n",
      "Index identifier (which score belongs to which image): torch.Size([135])\n"
     ]
    }
   ],
   "source": [
    "dataset = Dataset('/home/davide/Desktop/change_detection/dataset', input_size=640)\n",
    "train_loader = data.DataLoader(dataset, batch_size=32, num_workers=0, pin_memory=True, collate_fn=Dataset.collate_fn)\n",
    "print(f\"Train_loader: {len(train_loader)} batches\")\n",
    "batch = next(iter(train_loader))\n",
    "print(\"All keys in batch: \", batch[1].keys())\n",
    "print(f\"Input batch shape: \", batch[0].shape)\n",
    "print(f\"Classification scores: {batch[1]['cls'].shape}\")\n",
    "print(f\"Box coordinates: {batch[1]['box'].shape}\")\n",
    "print(f\"Index identifier (which score belongs to which image): {batch[1]['idx'].shape}\")\n"
   ]
  },
  {
   "cell_type": "code",
   "execution_count": 25,
   "id": "f9b15eb1",
   "metadata": {},
   "outputs": [
    {
     "data": {
      "text/plain": [
       "torch.Size([2, 4])"
      ]
     },
     "execution_count": 25,
     "metadata": {},
     "output_type": "execute_result"
    }
   ],
   "source": [
    "dataset.__getitem__(0)[2].shape"
   ]
  },
  {
   "cell_type": "code",
   "execution_count": 2,
   "id": "1b05c5bf",
   "metadata": {},
   "outputs": [
    {
     "ename": "AttributeError",
     "evalue": "type object 'Dataset' has no attribute 'collate_fn'",
     "output_type": "error",
     "traceback": [
      "\u001b[0;31m---------------------------------------------------------------------------\u001b[0m",
      "\u001b[0;31mAttributeError\u001b[0m                            Traceback (most recent call last)",
      "Cell \u001b[0;32mIn[2], line 2\u001b[0m\n\u001b[1;32m      1\u001b[0m dataset \u001b[38;5;241m=\u001b[39m Dataset(\u001b[38;5;124m'\u001b[39m\u001b[38;5;124m/home/davide/Desktop/change_detection/dataset\u001b[39m\u001b[38;5;124m'\u001b[39m, input_size\u001b[38;5;241m=\u001b[39m\u001b[38;5;241m640\u001b[39m)\n\u001b[0;32m----> 2\u001b[0m train_loader \u001b[38;5;241m=\u001b[39m data\u001b[38;5;241m.\u001b[39mDataLoader(dataset, batch_size\u001b[38;5;241m=\u001b[39m\u001b[38;5;241m32\u001b[39m, num_workers\u001b[38;5;241m=\u001b[39m\u001b[38;5;241m0\u001b[39m, pin_memory\u001b[38;5;241m=\u001b[39m\u001b[38;5;28;01mTrue\u001b[39;00m, collate_fn\u001b[38;5;241m=\u001b[39m\u001b[43mDataset\u001b[49m\u001b[38;5;241;43m.\u001b[39;49m\u001b[43mcollate_fn\u001b[49m)\n\u001b[1;32m      3\u001b[0m \u001b[38;5;28mprint\u001b[39m(\u001b[38;5;124mf\u001b[39m\u001b[38;5;124m\"\u001b[39m\u001b[38;5;124mTrain_loader : \u001b[39m\u001b[38;5;132;01m{\u001b[39;00m\u001b[38;5;28mlen\u001b[39m(train_loader)\u001b[38;5;132;01m}\u001b[39;00m\u001b[38;5;124m batches\u001b[39m\u001b[38;5;124m\"\u001b[39m)\n\u001b[1;32m      5\u001b[0m torch\u001b[38;5;241m.\u001b[39mmanual_seed(\u001b[38;5;241m42\u001b[39m)\n",
      "\u001b[0;31mAttributeError\u001b[0m: type object 'Dataset' has no attribute 'collate_fn'"
     ]
    }
   ],
   "source": [
    "dataset = Dataset('/home/davide/Desktop/change_detection/dataset', input_size=640)\n",
    "train_loader = data.DataLoader(dataset, batch_size=32, num_workers=0, pin_memory=True, collate_fn=Dataset.collate_fn)\n",
    "print(f\"Train_loader : {len(train_loader)} batches\")\n",
    "\n",
    "torch.manual_seed(42)\n",
    "\n",
    "model = Yolo(version='n')\n",
    "print(f\"{sum(p.numel() for p in model.parameters())/1e6} million parameters\")\n",
    "\n",
    "criterion = ComputeLoss(model)\n",
    "optimizer = torch.optim.AdamW(model.parameters(), lr=1e-2)\n",
    "\n",
    "num_epochs = 40\n",
    "\n",
    "model.train()\n",
    "for epoch in range(num_epochs):\n",
    "    epoch_loss = 0\n",
    "    for imgs, targets in train_loader:\n",
    "        imgs = imgs.float()\n",
    "        outputs = model(imgs)\n",
    "        loss = sum(criterion(outputs, targets))\n",
    "        optimizer.zero_grad()\n",
    "        loss.backward()\n",
    "        optimizer.step()\n",
    "        epoch_loss += loss.item()\n",
    "    print(f\"Epoch : {epoch + 1} | avg loss : {epoch_loss / len(train_loader)}\")\n",
    "\n",
    "#torch.save(model.state_dict(), 'yolo_n.pth')"
   ]
  },
  {
   "cell_type": "code",
   "execution_count": 16,
   "id": "ac48512f",
   "metadata": {},
   "outputs": [],
   "source": [
    "# saving checkpoint\n",
    "torch.save({\n",
    "    'epoch': 43,\n",
    "    'model_state_dict': model.state_dict(),\n",
    "    'optimizer_state_dict': optimizer.state_dict(),\n",
    "    'loss': epoch_loss / len(train_loader)\n",
    "}, 'yolo_n_checkpoint.pth')\n",
    "\n",
    "# Load the model\n",
    "#model = Yolo(version='n')\n",
    "#optimizer = torch.optim.AdamW(model.parameters(), lr=1e-2)\n",
    "#checkpoint = torch.load('yolo_n_checkpoint.pth')\n",
    "#model.load_state_dict(checkpoint['model_state_dict'])\n",
    "#optimizer.load_state_dict(checkpoint['optimizer_state_dict'])\n",
    "#print(f\"Loaded model from checkpoint at epoch {checkpoint['epoch']} with loss {checkpoint['loss']:.4f}\")"
   ]
  },
  {
   "cell_type": "code",
   "execution_count": 9,
   "id": "609db924",
   "metadata": {},
   "outputs": [],
   "source": [
    "model.train()\n",
    "test_img = cv2.imread('/home/davide/Desktop/change_detection/1_im_ds/images/train/3.png')\n",
    "test_img = cv2.cvtColor(test_img, cv2.COLOR_BGR2GRAY)\n",
    "h, w = test_img.shape\n",
    "r = 640 / max(h, w)\n",
    "if r != 1:\n",
    "    test_img = cv2.resize(test_img, dsize=(int(w * r), int(h * r)), interpolation=cv2.INTER_LINEAR)\n",
    "test_img, ratio, pad = resize(test_img, 640)\n",
    "h, w = test_img.shape\n",
    "test_img = test_img.reshape((1, 1, h, w))\n",
    "test_img = np.ascontiguousarray(test_img)\n",
    "test_img = torch.from_numpy(test_img)\n",
    "with torch.no_grad():\n",
    "    out = model(test_img.float())"
   ]
  },
  {
   "cell_type": "code",
   "execution_count": 2,
   "id": "42b91996",
   "metadata": {},
   "outputs": [],
   "source": [
    "dataset = Dataset('/home/davide/Desktop/change_detection/dataset', input_size=640)\n",
    "train_loader = data.DataLoader(dataset, batch_size=32, num_workers=0, pin_memory=True)\n",
    "model = Yolo(version='n')"
   ]
  },
  {
   "cell_type": "code",
   "execution_count": 3,
   "id": "0e981f98",
   "metadata": {},
   "outputs": [],
   "source": [
    "class SimpleLoss:\n",
    "    def __init__(self, model, params=None):\n",
    "        if hasattr(model, 'module'):\n",
    "            model = model.module\n",
    "        self.device = next(model.parameters()).device\n",
    "\n",
    "    def __call__(self, outputs, targets):\n",
    "        x1, x2, x3 = outputs\n",
    "        y1, y2, y3 = targets\n",
    "        # the loss is the sum of the cross-entropy loss for each pair of outputs and targets\n",
    "        loss_fn = torch.nn.BCEWithLogitsLoss()\n",
    "        loss = loss_fn(x1, y1) + loss_fn(x2, y2) + loss_fn(x3, y3)\n",
    "        #loss = torch.nn.BCEWithLogitsLoss(x1, y1) + torch.nn.BCEWithLogitsLoss(x2, y2) + torch.nn.BCEWithLogitsLoss(x3, y3)\n",
    "        # return a tensor with a single value, the loss\n",
    "        if not isinstance(loss, torch.Tensor):\n",
    "            loss = torch.tensor(loss, device=self.device)\n",
    "        if loss.ndim == 0:  # if loss is a scalar\n",
    "            loss = loss.unsqueeze(0)  # add a batch dimension\n",
    "        elif loss.ndim == 1:  # if loss is a vector\n",
    "            loss = loss.unsqueeze(0)  # add a batch dimension\n",
    "        elif loss.ndim > 1:  # if loss is a matrix or higher\n",
    "            loss = loss.mean(dim=0, keepdim=True)  # average over the first dimension\n",
    "\n",
    "        return loss"
   ]
  },
  {
   "cell_type": "code",
   "execution_count": 4,
   "id": "f9995763",
   "metadata": {},
   "outputs": [
    {
     "name": "stdout",
     "output_type": "stream",
     "text": [
      "Train_loader : 4 batches\n",
      "2.637276 million parameters\n",
      "Epoch : 1 | avg loss : 2.010443844800467\n",
      "Epoch : 2 | avg loss : 1.740228753622708\n",
      "Epoch : 3 | avg loss : 1.5988311395497923\n",
      "Epoch : 4 | avg loss : 1.5204710103930337\n",
      "Epoch : 5 | avg loss : 1.4929673498257645\n",
      "Epoch : 6 | avg loss : 1.407604665373517\n",
      "Epoch : 7 | avg loss : 1.3476153239442197\n",
      "Epoch : 8 | avg loss : 1.2898225078207874\n",
      "Epoch : 9 | avg loss : 1.2347499096992354\n",
      "Epoch : 10 | avg loss : 1.1805702880047304\n"
     ]
    }
   ],
   "source": [
    "dataset = Dataset('/home/davide/Desktop/change_detection/dataset', input_size=640)\n",
    "train_loader = data.DataLoader(dataset, batch_size=32, num_workers=0, pin_memory=True)\n",
    "print(f\"Train_loader : {len(train_loader)} batches\")\n",
    "\n",
    "torch.manual_seed(42)\n",
    "\n",
    "model = Yolo(version='n')\n",
    "print(f\"{sum(p.numel() for p in model.parameters())/1e6} million parameters\")\n",
    "\n",
    "criterion = SimpleLoss(model)\n",
    "optimizer = torch.optim.AdamW(model.parameters(), lr=1e-3)\n",
    "\n",
    "num_epochs = 10\n",
    "\n",
    "model.train()\n",
    "for epoch in range(num_epochs):\n",
    "    epoch_loss = 0\n",
    "    for imgs, targets in train_loader:\n",
    "        imgs = imgs.float()\n",
    "        outputs = model(imgs)\n",
    "        loss = criterion(outputs, targets)\n",
    "        optimizer.zero_grad()\n",
    "        loss.backward()\n",
    "        optimizer.step()\n",
    "        epoch_loss += loss.item()\n",
    "    print(f\"Epoch : {epoch + 1} | avg loss : {epoch_loss / len(train_loader)}\")"
   ]
  },
  {
   "cell_type": "code",
   "execution_count": null,
   "id": "cb00b67d",
   "metadata": {},
   "outputs": [
    {
     "name": "stdout",
     "output_type": "stream",
     "text": [
      "Epoch : 41 | avg loss : 0.23775277088011607\n",
      "Epoch : 42 | avg loss : 0.21185017482462595\n",
      "Epoch : 43 | avg loss : 0.19200114080298014\n"
     ]
    }
   ],
   "source": [
    "optimizer = torch.optim.AdamW(model.parameters(), lr=1e-3)\n",
    "\n",
    "num_epochs = 3\n",
    "\n",
    "model.train()\n",
    "for epoch in range(num_epochs):\n",
    "    epoch_loss = 0\n",
    "    for imgs, targets in train_loader:\n",
    "        imgs = imgs.float()\n",
    "        outputs = model(imgs)\n",
    "        loss = sum(criterion(outputs, targets))\n",
    "        optimizer.zero_grad()\n",
    "        loss.backward()\n",
    "        optimizer.step()\n",
    "        epoch_loss += loss.item()\n",
    "    print(f\"Epoch : {epoch + 1 + 43} | avg loss : {epoch_loss / len(train_loader)}\")"
   ]
  },
  {
   "cell_type": "code",
   "execution_count": 12,
   "id": "68c8c72c",
   "metadata": {},
   "outputs": [],
   "source": [
    "dataset = Dataset('/home/davide/Desktop/change_detection/1_im_ds', input_size=640)\n",
    "train_loader = data.DataLoader(dataset, batch_size=32, num_workers=0, pin_memory=True)\n",
    "im, t = next(iter(train_loader))"
   ]
  },
  {
   "cell_type": "code",
   "execution_count": 26,
   "id": "2d92e5be",
   "metadata": {},
   "outputs": [],
   "source": [
    "out = model(im.float())"
   ]
  },
  {
   "cell_type": "code",
   "execution_count": 18,
   "id": "5f978e7a",
   "metadata": {},
   "outputs": [
    {
     "data": {
      "text/plain": [
       "(torch.Size([1, 2, 80, 80]), torch.Size([1, 2, 80, 80]))"
      ]
     },
     "execution_count": 18,
     "metadata": {},
     "output_type": "execute_result"
    }
   ],
   "source": [
    "out[0].shape, t[0].shape"
   ]
  },
  {
   "cell_type": "code",
   "execution_count": 33,
   "id": "f97334fb",
   "metadata": {},
   "outputs": [
    {
     "data": {
      "text/plain": [
       "<matplotlib.image.AxesImage at 0x7f1148360c70>"
      ]
     },
     "execution_count": 33,
     "metadata": {},
     "output_type": "execute_result"
    },
    {
     "data": {
      "image/png": "[encoded data removed]",
      "text/plain": [
       "<Figure size 1200x600 with 3 Axes>"
      ]
     },
     "metadata": {},
     "output_type": "display_data"
    }
   ],
   "source": [
    "fig, axs = plt.subplots(1, 3, figsize=(12, 6))\n",
    "axs[0].imshow(im[0][0].cpu().detach().numpy(), cmap='gray')\n",
    "axs[1].imshow(t[2][0][1].cpu().detach().numpy(), cmap='gray')\n",
    "axs[2].imshow(out[2][0][1].cpu().detach().numpy(), cmap='gray')"
   ]
  }
 ],
 "metadata": {
  "kernelspec": {
   "display_name": "Python 3",
   "language": "python",
   "name": "python3"
  },
  "language_info": {
   "codemirror_mode": {
    "name": "ipython",
    "version": 3
   },
   "file_extension": ".py",
   "mimetype": "text/x-python",
   "name": "python",
   "nbconvert_exporter": "python",
   "pygments_lexer": "ipython3",
   "version": "3.8.10"
  }
 },
 "nbformat": 4,
 "nbformat_minor": 5
}
