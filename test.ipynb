{
 "cells": [
  {
   "cell_type": "code",
   "execution_count": 1,
   "id": "922defdd",
   "metadata": {},
   "outputs": [],
   "source": [
    "import numpy as np\n",
    "import matplotlib.pyplot as plt\n",
    "import pandas as pd\n",
    "import cv2\n",
    "from torch.utils import data\n",
    "import torch\n",
    "import os"
   ]
  },
  {
   "cell_type": "code",
   "execution_count": 5,
   "id": "f353a7c1",
   "metadata": {},
   "outputs": [
    {
     "data": {
      "text/plain": [
       "(450, 610)"
      ]
     },
     "execution_count": 5,
     "metadata": {},
     "output_type": "execute_result"
    }
   ],
   "source": [
    "im = cv2.imread('/home/davide/Desktop/change_detection/dataset/images/train/2.png')\n",
    "im = cv2.cvtColor(im, cv2.COLOR_BGR2GRAY)\n",
    "im.shape"
   ]
  },
  {
   "cell_type": "code",
   "execution_count": 2,
   "id": "950cfc49",
   "metadata": {},
   "outputs": [],
   "source": [
    "from from_scratch.dataset import Dataset\n",
    "\n",
    "dataset = Dataset('/home/davide/Desktop/change_detection/dataset', input_size=640)"
   ]
  },
  {
   "cell_type": "code",
   "execution_count": 3,
   "id": "17dd0f34",
   "metadata": {},
   "outputs": [
    {
     "data": {
      "text/plain": [
       "125"
      ]
     },
     "execution_count": 3,
     "metadata": {},
     "output_type": "execute_result"
    }
   ],
   "source": [
    "len(dataset)"
   ]
  },
  {
   "cell_type": "code",
   "execution_count": 4,
   "id": "ff3adc05",
   "metadata": {},
   "outputs": [
    {
     "name": "stdout",
     "output_type": "stream",
     "text": [
      "Train_loader : 4 batches\n"
     ]
    }
   ],
   "source": [
    "train_loader = data.DataLoader(dataset, batch_size=32, num_workers=0, pin_memory=True, collate_fn=Dataset.collate_fn)\n",
    "print(f\"Train_loader : {len(train_loader)} batches\")"
   ]
  },
  {
   "cell_type": "code",
   "execution_count": 5,
   "id": "f7a86461",
   "metadata": {},
   "outputs": [
    {
     "name": "stdout",
     "output_type": "stream",
     "text": [
      "Loading /home/davide/Desktop/change_detection/dataset/images/train/131.png\n",
      "Loading /home/davide/Desktop/change_detection/dataset/images/train/41.png\n",
      "Loading /home/davide/Desktop/change_detection/dataset/images/train/99.png\n",
      "Loading /home/davide/Desktop/change_detection/dataset/images/train/9.png\n",
      "Loading /home/davide/Desktop/change_detection/dataset/images/train/82.png\n",
      "Loading /home/davide/Desktop/change_detection/dataset/images/train/21.png\n",
      "Loading /home/davide/Desktop/change_detection/dataset/images/train/98.png\n",
      "Loading /home/davide/Desktop/change_detection/dataset/images/train/75.png\n",
      "Loading /home/davide/Desktop/change_detection/dataset/images/train/20.png\n",
      "Loading /home/davide/Desktop/change_detection/dataset/images/train/130.png\n",
      "Loading /home/davide/Desktop/change_detection/dataset/images/train/66.png\n",
      "Loading /home/davide/Desktop/change_detection/dataset/images/train/109.png\n",
      "Loading /home/davide/Desktop/change_detection/dataset/images/train/51.png\n",
      "Loading /home/davide/Desktop/change_detection/dataset/images/train/46.png\n",
      "Loading /home/davide/Desktop/change_detection/dataset/images/train/101.png\n",
      "Loading /home/davide/Desktop/change_detection/dataset/images/train/76.png\n",
      "Loading /home/davide/Desktop/change_detection/dataset/images/train/47.png\n",
      "Loading /home/davide/Desktop/change_detection/dataset/images/train/43.png\n",
      "Loading /home/davide/Desktop/change_detection/dataset/images/train/110.png\n",
      "Loading /home/davide/Desktop/change_detection/dataset/images/train/96.png\n",
      "Loading /home/davide/Desktop/change_detection/dataset/images/train/53.png\n",
      "Loading /home/davide/Desktop/change_detection/dataset/images/train/95.png\n",
      "Loading /home/davide/Desktop/change_detection/dataset/images/train/57.png\n",
      "Loading /home/davide/Desktop/change_detection/dataset/images/train/107.png\n",
      "Loading /home/davide/Desktop/change_detection/dataset/images/train/28.png\n",
      "Loading /home/davide/Desktop/change_detection/dataset/images/train/124.png\n",
      "Loading /home/davide/Desktop/change_detection/dataset/images/train/8.png\n",
      "Loading /home/davide/Desktop/change_detection/dataset/images/train/58.png\n",
      "Loading /home/davide/Desktop/change_detection/dataset/images/train/85.png\n",
      "Loading /home/davide/Desktop/change_detection/dataset/images/train/146.png\n",
      "Loading /home/davide/Desktop/change_detection/dataset/images/train/15.png\n",
      "Loading /home/davide/Desktop/change_detection/dataset/images/train/142.png\n",
      "All keys in batch      :  dict_keys(['cls', 'box', 'idx'])\n",
      "Input batch shape      :  torch.Size([32, 1, 640, 640])\n",
      "Classification scores  : torch.Size([135, 1])\n",
      "Box coordinates        : torch.Size([135, 4])\n",
      "Index identifier (which score belongs to which image): torch.Size([135])\n"
     ]
    }
   ],
   "source": [
    "batch=next(iter(train_loader))\n",
    "print(\"All keys in batch      : \", batch[1].keys())\n",
    "print(f\"Input batch shape      : \", batch[0].shape)\n",
    "print(f\"Classification scores  : {batch[1]['cls'].shape}\")\n",
    "print(f\"Box coordinates        : {batch[1]['box'].shape}\")\n",
    "print(f\"Index identifier (which score belongs to which image): {batch[1]['idx'].shape}\")"
   ]
  }
 ],
 "metadata": {
  "kernelspec": {
   "display_name": "Python 3",
   "language": "python",
   "name": "python3"
  },
  "language_info": {
   "codemirror_mode": {
    "name": "ipython",
    "version": 3
   },
   "file_extension": ".py",
   "mimetype": "text/x-python",
   "name": "python",
   "nbconvert_exporter": "python",
   "pygments_lexer": "ipython3",
   "version": "3.8.10"
  }
 },
 "nbformat": 4,
 "nbformat_minor": 5
}
